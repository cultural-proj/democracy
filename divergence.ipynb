{
 "cells": [
  {
   "cell_type": "code",
   "execution_count": 1,
   "id": "ce3f1047",
   "metadata": {},
   "outputs": [],
   "source": [
    "import pandas as pd"
   ]
  },
  {
   "cell_type": "code",
   "execution_count": 2,
   "id": "8b4c908a",
   "metadata": {},
   "outputs": [],
   "source": [
    "df = pd.read_csv('chi_1985_2000.csv')"
   ]
  },
  {
   "cell_type": "code",
   "execution_count": 3,
   "id": "6f0a1654",
   "metadata": {},
   "outputs": [
    {
     "data": {
      "text/plain": [
       "Index(['Unnamed: 0', 'complements', 'substitutes', 'frequency_dict',\n",
       "       'context_dict'],\n",
       "      dtype='object')"
      ]
     },
     "execution_count": 3,
     "metadata": {},
     "output_type": "execute_result"
    }
   ],
   "source": [
    "df.columns"
   ]
  },
  {
   "cell_type": "code",
   "execution_count": 4,
   "id": "55adc804",
   "metadata": {},
   "outputs": [],
   "source": [
    "df.rename(columns={'Unnamed: 0': \"year\"}, inplace=True)"
   ]
  },
  {
   "cell_type": "code",
   "execution_count": 87,
   "id": "3f2b7108",
   "metadata": {},
   "outputs": [
    {
     "data": {
      "text/plain": [
       "55"
      ]
     },
     "execution_count": 87,
     "metadata": {},
     "output_type": "execute_result"
    }
   ],
   "source": [
    "len(df)"
   ]
  },
  {
   "cell_type": "code",
   "execution_count": 88,
   "id": "3fb10e05",
   "metadata": {},
   "outputs": [],
   "source": [
    "df['year'] = range(1955, 2010)"
   ]
  },
  {
   "cell_type": "code",
   "execution_count": 89,
   "id": "7984eeb0",
   "metadata": {},
   "outputs": [
    {
     "data": {
      "text/html": [
       "<div>\n",
       "<style scoped>\n",
       "    .dataframe tbody tr th:only-of-type {\n",
       "        vertical-align: middle;\n",
       "    }\n",
       "\n",
       "    .dataframe tbody tr th {\n",
       "        vertical-align: top;\n",
       "    }\n",
       "\n",
       "    .dataframe thead th {\n",
       "        text-align: right;\n",
       "    }\n",
       "</style>\n",
       "<table border=\"1\" class=\"dataframe\">\n",
       "  <thead>\n",
       "    <tr style=\"text-align: right;\">\n",
       "      <th></th>\n",
       "      <th>year</th>\n",
       "      <th>complements</th>\n",
       "      <th>substitutes</th>\n",
       "      <th>frequency_dict</th>\n",
       "      <th>context_dict</th>\n",
       "    </tr>\n",
       "  </thead>\n",
       "  <tbody>\n",
       "    <tr>\n",
       "      <th>0</th>\n",
       "      <td>1955</td>\n",
       "      <td>['自发', '瑞士', '主', '高潮', '自决', '改良', '命', '粹', ...</td>\n",
       "      <td>['老挝', '社会', '主义', '政治', '南斯拉夫', '孟什维克', '议会',...</td>\n",
       "      <td>{'革命': 34128, '民主党': 10167, '俄国': 3826, '命': 1...</td>\n",
       "      <td>{'革命': -0.094, '民主党': 0.026, '俄国': -0.061, '命'...</td>\n",
       "    </tr>\n",
       "    <tr>\n",
       "      <th>1</th>\n",
       "      <td>1956</td>\n",
       "      <td>['自发', '瑞士', '主', '高潮', '自决', '改良', '命', '粹', ...</td>\n",
       "      <td>['老挝', '社会', '主义', '政治', '南斯拉夫', '孟什维克', '议会',...</td>\n",
       "      <td>{'主': 8776, '社会': 110238, '共和': 1104, '党派': 66...</td>\n",
       "      <td>{'主': 0.034, '社会': -0.141, '共和': -0.16, '党派': ...</td>\n",
       "    </tr>\n",
       "    <tr>\n",
       "      <th>2</th>\n",
       "      <td>1957</td>\n",
       "      <td>['自发', '瑞士', '主', '高潮', '自决', '改良', '命', '粹', ...</td>\n",
       "      <td>['老挝', '社会', '主义', '政治', '南斯拉夫', '孟什维克', '议会',...</td>\n",
       "      <td>{'社会': 112401, '主': 10239, '民': 8925, '革命': 35...</td>\n",
       "      <td>{'社会': 0.018, '主': -0.837, '民': 0.049, '革命': -...</td>\n",
       "    </tr>\n",
       "    <tr>\n",
       "      <th>3</th>\n",
       "      <td>1958</td>\n",
       "      <td>['自发', '瑞士', '主', '高潮', '自决', '改良', '命', '粹', ...</td>\n",
       "      <td>['老挝', '社会', '主义', '政治', '南斯拉夫', '孟什维克', '议会',...</td>\n",
       "      <td>{'主': 11730, '专政': 678, '共和': 658, '社会': 11852...</td>\n",
       "      <td>{'主': -0.018, '专政': -0.488, '共和': -0.298, '社会'...</td>\n",
       "    </tr>\n",
       "    <tr>\n",
       "      <th>4</th>\n",
       "      <td>1959</td>\n",
       "      <td>['自发', '瑞士', '主', '高潮', '自决', '改良', '命', '粹', ...</td>\n",
       "      <td>['老挝', '社会', '主义', '政治', '南斯拉夫', '孟什维克', '议会',...</td>\n",
       "      <td>{'联邦': 639, '共和': 655, '自治': 613, '社会': 94146}</td>\n",
       "      <td>{'联邦': -0.105, '共和': 0.065, '自治': -0.001, '社会'...</td>\n",
       "    </tr>\n",
       "  </tbody>\n",
       "</table>\n",
       "</div>"
      ],
      "text/plain": [
       "   year                                        complements  \\\n",
       "0  1955  ['自发', '瑞士', '主', '高潮', '自决', '改良', '命', '粹', ...   \n",
       "1  1956  ['自发', '瑞士', '主', '高潮', '自决', '改良', '命', '粹', ...   \n",
       "2  1957  ['自发', '瑞士', '主', '高潮', '自决', '改良', '命', '粹', ...   \n",
       "3  1958  ['自发', '瑞士', '主', '高潮', '自决', '改良', '命', '粹', ...   \n",
       "4  1959  ['自发', '瑞士', '主', '高潮', '自决', '改良', '命', '粹', ...   \n",
       "\n",
       "                                         substitutes  \\\n",
       "0  ['老挝', '社会', '主义', '政治', '南斯拉夫', '孟什维克', '议会',...   \n",
       "1  ['老挝', '社会', '主义', '政治', '南斯拉夫', '孟什维克', '议会',...   \n",
       "2  ['老挝', '社会', '主义', '政治', '南斯拉夫', '孟什维克', '议会',...   \n",
       "3  ['老挝', '社会', '主义', '政治', '南斯拉夫', '孟什维克', '议会',...   \n",
       "4  ['老挝', '社会', '主义', '政治', '南斯拉夫', '孟什维克', '议会',...   \n",
       "\n",
       "                                      frequency_dict  \\\n",
       "0  {'革命': 34128, '民主党': 10167, '俄国': 3826, '命': 1...   \n",
       "1  {'主': 8776, '社会': 110238, '共和': 1104, '党派': 66...   \n",
       "2  {'社会': 112401, '主': 10239, '民': 8925, '革命': 35...   \n",
       "3  {'主': 11730, '专政': 678, '共和': 658, '社会': 11852...   \n",
       "4     {'联邦': 639, '共和': 655, '自治': 613, '社会': 94146}   \n",
       "\n",
       "                                        context_dict  \n",
       "0  {'革命': -0.094, '民主党': 0.026, '俄国': -0.061, '命'...  \n",
       "1  {'主': 0.034, '社会': -0.141, '共和': -0.16, '党派': ...  \n",
       "2  {'社会': 0.018, '主': -0.837, '民': 0.049, '革命': -...  \n",
       "3  {'主': -0.018, '专政': -0.488, '共和': -0.298, '社会'...  \n",
       "4  {'联邦': -0.105, '共和': 0.065, '自治': -0.001, '社会'...  "
      ]
     },
     "execution_count": 89,
     "metadata": {},
     "output_type": "execute_result"
    }
   ],
   "source": [
    "df.head()"
   ]
  },
  {
   "cell_type": "code",
   "execution_count": 47,
   "id": "863c1324",
   "metadata": {},
   "outputs": [
    {
     "data": {
      "text/plain": [
       "\"['自发', '瑞士', '主', '高潮', '自决', '改良', '命', '粹', '强大', '共和', '平等', '害怕', '政权', '社', '蒙古', '论断', '义', '党', '党团', '庸俗', '掀起', '激进', '互助', '越南', '忠诚', '君主', '波兰', '农奴', '代表', '南非', '解放', '选举', '比利时', '走向', '西欧', '富强', '爱国', '工农', '胜利', '马赫', '革命家', '德国', '自由', '空想', '立陶宛', '专制', '匈牙利', '削弱', '西方', '民主党', '有名', '欧洲', '叫做', '奥地利', '德意志', '冒险', '争取', '氛围', '思潮', '法国', '阿尔巴尼亚', '斗争', '共产', '所谓', '伟大', '而是', '工党', '俄国', '口号', '民', '专政', '机会', '政党', '国民党', '革命', '俄', '统治', '阶级', '贵族', '制度', '和谐', '霸权', '高涨', '残酷', '残余', '葡萄牙', '苏维埃', '犹太', '奴隶', '偏见', '左派', '运动', '拥护', '派', '日本', '背叛', '摧毁', '封建', '捍卫', '意大利']\""
      ]
     },
     "execution_count": 47,
     "metadata": {},
     "output_type": "execute_result"
    }
   ],
   "source": [
    "df['complements'][6]"
   ]
  },
  {
   "cell_type": "code",
   "execution_count": 45,
   "id": "b4c70ef9",
   "metadata": {},
   "outputs": [],
   "source": [
    "change_by_year = [(0, 0, 0)]\n",
    "prev = None\n",
    "for i, row in df.iterrows():\n",
    "    if row['year'] == 1955:\n",
    "        prev_c = set(row['complements'])\n",
    "        prev_s = set(row['substitutes'])\n",
    "    else:\n",
    "        comp = set(row['complements'])\n",
    "        sub = set(row['substitutes'])\n",
    "        change_c = len(prev_c.symmetric_difference(comp))\n",
    "        change_s = len(prev_s.symmetric_difference(sub))\n",
    "        change_total = change_c + change_s\n",
    "        changes = change_c, change_s, change_total\n",
    "        change_by_year.append(changes)\n",
    "        \n",
    "        # update prevs\n",
    "        prev_c = comp\n",
    "        prev_s = sub"
   ]
  },
  {
   "cell_type": "code",
   "execution_count": 46,
   "id": "c190ced5",
   "metadata": {
    "collapsed": true
   },
   "outputs": [
    {
     "data": {
      "text/plain": [
       "[(0, 0, 0),\n",
       " (0, 0, 0),\n",
       " (0, 0, 0),\n",
       " (0, 0, 0),\n",
       " (0, 0, 0),\n",
       " (0, 0, 0),\n",
       " (0, 0, 0),\n",
       " (0, 0, 0),\n",
       " (0, 0, 0),\n",
       " (0, 0, 0),\n",
       " (0, 0, 0),\n",
       " (0, 0, 0),\n",
       " (0, 0, 0),\n",
       " (0, 0, 0),\n",
       " (0, 0, 0),\n",
       " (0, 0, 0),\n",
       " (0, 0, 0),\n",
       " (0, 0, 0),\n",
       " (0, 0, 0),\n",
       " (0, 0, 0),\n",
       " (0, 0, 0),\n",
       " (0, 0, 0),\n",
       " (0, 0, 0),\n",
       " (0, 0, 0),\n",
       " (0, 0, 0),\n",
       " (0, 0, 0),\n",
       " (0, 0, 0),\n",
       " (0, 0, 0),\n",
       " (0, 0, 0),\n",
       " (0, 0, 0),\n",
       " (0, 0, 0),\n",
       " (0, 0, 0),\n",
       " (0, 0, 0),\n",
       " (0, 0, 0),\n",
       " (0, 0, 0),\n",
       " (0, 0, 0),\n",
       " (0, 0, 0),\n",
       " (0, 0, 0),\n",
       " (0, 0, 0),\n",
       " (0, 0, 0),\n",
       " (0, 0, 0),\n",
       " (0, 0, 0),\n",
       " (0, 0, 0),\n",
       " (0, 0, 0),\n",
       " (0, 0, 0),\n",
       " (0, 0, 0),\n",
       " (0, 0, 0),\n",
       " (0, 0, 0),\n",
       " (0, 0, 0),\n",
       " (0, 0, 0),\n",
       " (0, 0, 0),\n",
       " (0, 0, 0),\n",
       " (0, 0, 0),\n",
       " (0, 0, 0),\n",
       " (0, 0, 0)]"
      ]
     },
     "execution_count": 46,
     "metadata": {},
     "output_type": "execute_result"
    }
   ],
   "source": [
    "change_by_year"
   ]
  },
  {
   "cell_type": "code",
   "execution_count": 64,
   "id": "a86e5b29",
   "metadata": {},
   "outputs": [],
   "source": [
    "import ast\n",
    "from scipy import stats"
   ]
  },
  {
   "cell_type": "code",
   "execution_count": 60,
   "id": "dcedb969",
   "metadata": {},
   "outputs": [],
   "source": [
    "prev = ast.literal_eval(df['frequency_dict'][0])"
   ]
  },
  {
   "cell_type": "code",
   "execution_count": 61,
   "id": "ed53a670",
   "metadata": {
    "collapsed": true
   },
   "outputs": [
    {
     "data": {
      "text/plain": [
       "{'革命': 34128,\n",
       " '民主党': 10167,\n",
       " '俄国': 3826,\n",
       " '命': 1464,\n",
       " '自由': 10197,\n",
       " '社会': 103643,\n",
       " '共产': 1752,\n",
       " '封建': 1194,\n",
       " '主义': 126532,\n",
       " '民': 8019,\n",
       " '政治': 26931,\n",
       " '越南': 638,\n",
       " '党': 24587,\n",
       " '运动': 15273,\n",
       " '德国': 3564}"
      ]
     },
     "execution_count": 61,
     "metadata": {},
     "output_type": "execute_result"
    }
   ],
   "source": [
    "# convert a string to dictionary"
   ]
  },
  {
   "cell_type": "code",
   "execution_count": null,
   "id": "30ccb10e",
   "metadata": {},
   "outputs": [],
   "source": [
    "def makeProbsArray(dfColumn, overlapDict):\n",
    "    words = dfColumn.sum()\n",
    "    countList = [0] * len(overlapDict)\n",
    "    for word in words:\n",
    "        try:\n",
    "            countList[overlapDict[word]] += 1\n",
    "        except KeyError:\n",
    "            #The word is not common so we skip it\n",
    "            pass\n",
    "    countArray = np.array(countList)\n",
    "    return countArray / countArray.sum()"
   ]
  },
  {
   "cell_type": "code",
   "execution_count": 72,
   "id": "51f5a8c5",
   "metadata": {},
   "outputs": [],
   "source": [
    "import numpy as np\n",
    "prev = None\n",
    "divergence_lst = [0]\n",
    "for i, row in df.iterrows():\n",
    "    dic = ast.literal_eval(row['frequency_dict'])\n",
    "    total = 0\n",
    "    for k, v in dic.items():\n",
    "        total += v\n",
    "    \n",
    "    if row['year'] == 1955:\n",
    "        prev = {k: v/total for k, v in dic.items()}\n",
    "    \n",
    "    if row['year'] != 1955:\n",
    "        current = {k: v/total for k, v in dic.items()}\n",
    "        \n",
    "\n",
    "    overlapWords = set(prev.keys()) & set(current.keys())\n",
    "    overlapWordsDict = {word: index for index, word in enumerate(overlapWords)}\n",
    "    prev_lst = []\n",
    "    current_lst = []\n",
    "    for word in overlapWords:\n",
    "        prev_lst.append(prev[word])\n",
    "        current_lst.append(current[word])\n",
    "\n",
    "    Divergence = stats.entropy(np.array(prev_lst), np.array(current_lst))\n",
    "    divergence_lst.append(Divergence)"
   ]
  },
  {
   "cell_type": "code",
   "execution_count": 92,
   "id": "f9f09f8c",
   "metadata": {
    "collapsed": true
   },
   "outputs": [
    {
     "data": {
      "text/plain": [
       "[0.0006868731143702704,\n",
       " 0.0004436466661825152,\n",
       " 9.675475414434647e-05,\n",
       " 0.0,\n",
       " 0.0,\n",
       " 0.04649402261899642,\n",
       " 0.008111652848057822,\n",
       " 0.02399239797302715,\n",
       " 0.04549682011500055,\n",
       " 0.13333654024379105,\n",
       " 0.6580875468592438,\n",
       " 0.012969855117214095,\n",
       " 0.0040457286640697455,\n",
       " 0.0,\n",
       " 0.0,\n",
       " 0.0,\n",
       " 0.0,\n",
       " 0.07237696639758644,\n",
       " 0.0,\n",
       " 0.07861004768699795,\n",
       " 0.07626029424553162,\n",
       " 0.08994210124804211,\n",
       " 0.23727008729881668,\n",
       " 0.0451334967373498,\n",
       " 0.026001868669527202,\n",
       " 0.011473167450972196,\n",
       " 0.007029082709651216,\n",
       " 0.02197594988375232,\n",
       " 0.0009098997123362026,\n",
       " 0.00941777142205847,\n",
       " 0.011429510361658873,\n",
       " 0.00818823624887708,\n",
       " 0.024550700061259388,\n",
       " 0.030696698043116276,\n",
       " 0.020533649936024204,\n",
       " 0.02045350913177845,\n",
       " 0.012615194565011392,\n",
       " 0.02616807682715709,\n",
       " 0.019786734404166853,\n",
       " 0.03560070929747572,\n",
       " 0.0,\n",
       " 0.032708989739865635,\n",
       " 0.04051122605257608,\n",
       " 0.0068363452399342745,\n",
       " 0.045222636548461204,\n",
       " 0.05291625045541847,\n",
       " 0.0035167611195316938,\n",
       " 0.0,\n",
       " 0.05376443214497366,\n",
       " 0.057644883377109345,\n",
       " 0.0005834526131442263,\n",
       " 0.0,\n",
       " 0.0,\n",
       " 0.018712344494315334,\n",
       " 0.0006868731143702704]"
      ]
     },
     "execution_count": 92,
     "metadata": {},
     "output_type": "execute_result"
    }
   ],
   "source": [
    "divergence_lst[1:]"
   ]
  },
  {
   "cell_type": "code",
   "execution_count": 74,
   "id": "d9a5c240",
   "metadata": {},
   "outputs": [],
   "source": [
    "import matplotlib.pyplot as plt"
   ]
  },
  {
   "cell_type": "code",
   "execution_count": 149,
   "id": "5149a21a",
   "metadata": {},
   "outputs": [
    {
     "data": {
      "image/png": "[encoded data removed]",
      "text/plain": [
       "<Figure size 432x288 with 1 Axes>"
      ]
     },
     "metadata": {
      "needs_background": "light"
     },
     "output_type": "display_data"
    }
   ],
   "source": [
    "plt.xlabel('Year')\n",
    "plt.ylabel('Divergence')\n",
    "plt.plot(df['year'], divergence_lst[1:]);"
   ]
  },
  {
   "cell_type": "code",
   "execution_count": 117,
   "id": "dffe5b70",
   "metadata": {},
   "outputs": [],
   "source": [
    "def sort_dict(dic):\n",
    "    return sorted(dic.items(), key=lambda x: x[1], reverse=True)"
   ]
  },
  {
   "cell_type": "code",
   "execution_count": 132,
   "id": "b87309a3",
   "metadata": {},
   "outputs": [],
   "source": [
    "def get_lsts(df_column):\n",
    "    \"\"\"\n",
    "    Get a list of lists of words\n",
    "    \"\"\"\n",
    "    lsts = []\n",
    "    for n in range(len(df_column)):\n",
    "        lst = [w for w, freq in sort_dict(ast.literal_eval(df_column[n]))]\n",
    "        lsts.append(lst)\n",
    "        \n",
    "    return lsts"
   ]
  },
  {
   "cell_type": "code",
   "execution_count": 133,
   "id": "f07d1031",
   "metadata": {},
   "outputs": [],
   "source": [
    "freqs = get_lsts(df['frequency_dict'])"
   ]
  },
  {
   "cell_type": "code",
   "execution_count": 148,
   "id": "5f0542fb",
   "metadata": {},
   "outputs": [
    {
     "name": "stdout",
     "output_type": "stream",
     "text": [
      "1955 ['主义', '社会', '革命', '政治', '党', '运动', '自由', '民主党', '民', '俄国', '德国', '共产', '命', '封建', '越南']\n",
      "1960 ['社会', '革命', '民族', '命', '联盟', '保障']\n",
      "1965 ['民族', '越南', '共和国', '民', '中华', '苏联', '府', '共和']\n",
      "1970 ['社会', '政府', '民族', '共和国', '中华', '主', '共和', '三民', '联盟', '北方']\n",
      "1975 ['社会', '革命', '反对', '民', '爱国', '苏维埃', '俄国', '人士', '法西斯']\n",
      "1980 ['社会', '革命', '自由', '专政', '法制', '苏维埃']\n",
      "1985 ['社会', '革命', '实行', '自由', '爱国', '法制', '三民', '党派', '苏维埃']\n",
      "1990 ['社会', '领导', '党', '革命', '自由', '主张', '爱国', '政党', '专政', '三民', '苏维埃']\n",
      "1995 ['社会', '群众', '反对', '政权', '法制', '专政', '三民']\n",
      "2000 ['社会', '主义', '民族', '革命', '自由', '反对', '法制', '政权', '爱国', '三民', '专政']\n",
      "2005 ['社会', '政治', '政党', '党派', '爱国', '法治']\n"
     ]
    }
   ],
   "source": [
    "# words most simliar to democracy by sorted frequency\n",
    "for i, freq in enumerate(freqs):\n",
    "    if i % 5 == 0:    \n",
    "        year = 1955 + i\n",
    "        print(year, freq)"
   ]
  },
  {
   "cell_type": "code",
   "execution_count": 152,
   "id": "c2bf80c0",
   "metadata": {
    "collapsed": true
   },
   "outputs": [
    {
     "name": "stdout",
     "output_type": "stream",
     "text": [
      "1955 ['自发', '瑞士', '主', '高潮', '自决', '改良', '命', '粹', '强大', '共和', '平等', '害怕', '政权', '社', '蒙古', '论断', '义', '党', '党团', '庸俗', '掀起', '激进', '互助', '越南', '忠诚', '君主', '波兰', '农奴', '代表', '南非', '解放', '选举', '比利时', '走向', '西欧', '富强', '爱国', '工农', '胜利', '马赫', '革命家', '德国', '自由', '空想', '立陶宛', '专制', '匈牙利', '削弱', '西方', '民主党', '有名', '欧洲', '叫做', '奥地利', '德意志', '冒险', '争取', '氛围', '思潮', '法国', '阿尔巴尼亚', '斗争', '共产', '所谓', '伟大', '而是', '工党', '俄国', '口号', '民', '专政', '机会', '政党', '国民党', '革命', '俄', '统治', '阶级', '贵族', '制度', '和谐', '霸权', '高涨', '残酷', '残余', '葡萄牙', '苏维埃', '犹太', '奴隶', '偏见', '左派', '运动', '拥护', '派', '日本', '背叛', '摧毁', '封建', '捍卫', '意大利']\n",
      "1965 ['自发', '瑞士', '主', '高潮', '自决', '改良', '命', '粹', '强大', '共和', '平等', '害怕', '政权', '社', '蒙古', '论断', '义', '党', '党团', '庸俗', '掀起', '激进', '互助', '越南', '忠诚', '君主', '波兰', '农奴', '代表', '南非', '解放', '选举', '比利时', '走向', '西欧', '富强', '爱国', '工农', '胜利', '马赫', '革命家', '德国', '自由', '空想', '立陶宛', '专制', '匈牙利', '削弱', '西方', '民主党', '有名', '欧洲', '叫做', '奥地利', '德意志', '冒险', '争取', '氛围', '思潮', '法国', '阿尔巴尼亚', '斗争', '共产', '所谓', '伟大', '而是', '工党', '俄国', '口号', '民', '专政', '机会', '政党', '国民党', '革命', '俄', '统治', '阶级', '贵族', '制度', '和谐', '霸权', '高涨', '残酷', '残余', '葡萄牙', '苏维埃', '犹太', '奴隶', '偏见', '左派', '运动', '拥护', '派', '日本', '背叛', '摧毁', '封建', '捍卫', '意大利']\n",
      "1975 ['自发', '瑞士', '主', '高潮', '自决', '改良', '命', '粹', '强大', '共和', '平等', '害怕', '政权', '社', '蒙古', '论断', '义', '党', '党团', '庸俗', '掀起', '激进', '互助', '越南', '忠诚', '君主', '波兰', '农奴', '代表', '南非', '解放', '选举', '比利时', '走向', '西欧', '富强', '爱国', '工农', '胜利', '马赫', '革命家', '德国', '自由', '空想', '立陶宛', '专制', '匈牙利', '削弱', '西方', '民主党', '有名', '欧洲', '叫做', '奥地利', '德意志', '冒险', '争取', '氛围', '思潮', '法国', '阿尔巴尼亚', '斗争', '共产', '所谓', '伟大', '而是', '工党', '俄国', '口号', '民', '专政', '机会', '政党', '国民党', '革命', '俄', '统治', '阶级', '贵族', '制度', '和谐', '霸权', '高涨', '残酷', '残余', '葡萄牙', '苏维埃', '犹太', '奴隶', '偏见', '左派', '运动', '拥护', '派', '日本', '背叛', '摧毁', '封建', '捍卫', '意大利']\n",
      "1985 ['自发', '瑞士', '主', '高潮', '自决', '改良', '命', '粹', '强大', '共和', '平等', '害怕', '政权', '社', '蒙古', '论断', '义', '党', '党团', '庸俗', '掀起', '激进', '互助', '越南', '忠诚', '君主', '波兰', '农奴', '代表', '南非', '解放', '选举', '比利时', '走向', '西欧', '富强', '爱国', '工农', '胜利', '马赫', '革命家', '德国', '自由', '空想', '立陶宛', '专制', '匈牙利', '削弱', '西方', '民主党', '有名', '欧洲', '叫做', '奥地利', '德意志', '冒险', '争取', '氛围', '思潮', '法国', '阿尔巴尼亚', '斗争', '共产', '所谓', '伟大', '而是', '工党', '俄国', '口号', '民', '专政', '机会', '政党', '国民党', '革命', '俄', '统治', '阶级', '贵族', '制度', '和谐', '霸权', '高涨', '残酷', '残余', '葡萄牙', '苏维埃', '犹太', '奴隶', '偏见', '左派', '运动', '拥护', '派', '日本', '背叛', '摧毁', '封建', '捍卫', '意大利']\n",
      "1995 ['自发', '瑞士', '主', '高潮', '自决', '改良', '命', '粹', '强大', '共和', '平等', '害怕', '政权', '社', '蒙古', '论断', '义', '党', '党团', '庸俗', '掀起', '激进', '互助', '越南', '忠诚', '君主', '波兰', '农奴', '代表', '南非', '解放', '选举', '比利时', '走向', '西欧', '富强', '爱国', '工农', '胜利', '马赫', '革命家', '德国', '自由', '空想', '立陶宛', '专制', '匈牙利', '削弱', '西方', '民主党', '有名', '欧洲', '叫做', '奥地利', '德意志', '冒险', '争取', '氛围', '思潮', '法国', '阿尔巴尼亚', '斗争', '共产', '所谓', '伟大', '而是', '工党', '俄国', '口号', '民', '专政', '机会', '政党', '国民党', '革命', '俄', '统治', '阶级', '贵族', '制度', '和谐', '霸权', '高涨', '残酷', '残余', '葡萄牙', '苏维埃', '犹太', '奴隶', '偏见', '左派', '运动', '拥护', '派', '日本', '背叛', '摧毁', '封建', '捍卫', '意大利']\n",
      "2005 ['自发', '瑞士', '主', '高潮', '自决', '改良', '命', '粹', '强大', '共和', '平等', '害怕', '政权', '社', '蒙古', '论断', '义', '党', '党团', '庸俗', '掀起', '激进', '互助', '越南', '忠诚', '君主', '波兰', '农奴', '代表', '南非', '解放', '选举', '比利时', '走向', '西欧', '富强', '爱国', '工农', '胜利', '马赫', '革命家', '德国', '自由', '空想', '立陶宛', '专制', '匈牙利', '削弱', '西方', '民主党', '有名', '欧洲', '叫做', '奥地利', '德意志', '冒险', '争取', '氛围', '思潮', '法国', '阿尔巴尼亚', '斗争', '共产', '所谓', '伟大', '而是', '工党', '俄国', '口号', '民', '专政', '机会', '政党', '国民党', '革命', '俄', '统治', '阶级', '贵族', '制度', '和谐', '霸权', '高涨', '残酷', '残余', '葡萄牙', '苏维埃', '犹太', '奴隶', '偏见', '左派', '运动', '拥护', '派', '日本', '背叛', '摧毁', '封建', '捍卫', '意大利']\n"
     ]
    }
   ],
   "source": [
    "for i, comp in enumerate(df['complements']):\n",
    "    if i % 10 == 0:    \n",
    "        year = 1955 + i\n",
    "        print(year, comp)"
   ]
  },
  {
   "cell_type": "code",
   "execution_count": 153,
   "id": "9cbf58be",
   "metadata": {
    "collapsed": true
   },
   "outputs": [
    {
     "name": "stdout",
     "output_type": "stream",
     "text": [
      "1955 ['老挝', '社会', '主义', '政治', '南斯拉夫', '孟什维克', '议会', '意大利', '捍卫', '封建', '摧毁', '背叛', '日本', '派', '拥护', '运动', '左派', '偏见', '奴隶', '犹太', '苏维埃', '葡萄牙', '残余', '残酷', '高涨', '霸权', '和谐', '制度', '贵族', '阶级', '俄', '统治', '革命', '国民党', '政党', '机会', '民', '专政', '口号', '俄国', '工党', '而是', '伟大', '所谓', '共产', '阿尔巴尼亚', '斗争', '法国', '思潮', '氛围', '争取', '冒险', '德意志', '奥地利', '叫做', '有名', '欧洲', '民主党', '西方', '削弱', '匈牙利', '立陶宛', '专制', '空想', '自由', '德国', '革命家', '马赫', '胜利', '工农', '爱国', '富强', '西欧', '走向', '比利时', '选举', '解放', '南非', '代表', '农奴', '波兰', '君主', '忠诚', '越南', '互助', '激进', '庸俗', '掀起', '党团', '党', '义', '论断', '蒙古', '社', '政权', '害怕', '平等', '共和', '强大', '粹']\n",
      "1965 ['老挝', '社会', '主义', '政治', '南斯拉夫', '孟什维克', '议会', '意大利', '捍卫', '封建', '摧毁', '背叛', '日本', '派', '拥护', '运动', '左派', '偏见', '奴隶', '犹太', '苏维埃', '葡萄牙', '残余', '残酷', '高涨', '霸权', '和谐', '制度', '贵族', '阶级', '俄', '统治', '革命', '国民党', '政党', '机会', '民', '专政', '口号', '俄国', '工党', '而是', '伟大', '所谓', '共产', '阿尔巴尼亚', '斗争', '法国', '思潮', '氛围', '争取', '冒险', '德意志', '奥地利', '叫做', '有名', '欧洲', '民主党', '西方', '削弱', '匈牙利', '立陶宛', '专制', '空想', '自由', '德国', '革命家', '马赫', '胜利', '工农', '爱国', '富强', '西欧', '走向', '比利时', '选举', '解放', '南非', '代表', '农奴', '波兰', '君主', '忠诚', '越南', '互助', '激进', '庸俗', '掀起', '党团', '党', '义', '论断', '蒙古', '社', '政权', '害怕', '平等', '共和', '强大', '粹']\n",
      "1975 ['老挝', '社会', '主义', '政治', '南斯拉夫', '孟什维克', '议会', '意大利', '捍卫', '封建', '摧毁', '背叛', '日本', '派', '拥护', '运动', '左派', '偏见', '奴隶', '犹太', '苏维埃', '葡萄牙', '残余', '残酷', '高涨', '霸权', '和谐', '制度', '贵族', '阶级', '俄', '统治', '革命', '国民党', '政党', '机会', '民', '专政', '口号', '俄国', '工党', '而是', '伟大', '所谓', '共产', '阿尔巴尼亚', '斗争', '法国', '思潮', '氛围', '争取', '冒险', '德意志', '奥地利', '叫做', '有名', '欧洲', '民主党', '西方', '削弱', '匈牙利', '立陶宛', '专制', '空想', '自由', '德国', '革命家', '马赫', '胜利', '工农', '爱国', '富强', '西欧', '走向', '比利时', '选举', '解放', '南非', '代表', '农奴', '波兰', '君主', '忠诚', '越南', '互助', '激进', '庸俗', '掀起', '党团', '党', '义', '论断', '蒙古', '社', '政权', '害怕', '平等', '共和', '强大', '粹']\n",
      "1985 ['老挝', '社会', '主义', '政治', '南斯拉夫', '孟什维克', '议会', '意大利', '捍卫', '封建', '摧毁', '背叛', '日本', '派', '拥护', '运动', '左派', '偏见', '奴隶', '犹太', '苏维埃', '葡萄牙', '残余', '残酷', '高涨', '霸权', '和谐', '制度', '贵族', '阶级', '俄', '统治', '革命', '国民党', '政党', '机会', '民', '专政', '口号', '俄国', '工党', '而是', '伟大', '所谓', '共产', '阿尔巴尼亚', '斗争', '法国', '思潮', '氛围', '争取', '冒险', '德意志', '奥地利', '叫做', '有名', '欧洲', '民主党', '西方', '削弱', '匈牙利', '立陶宛', '专制', '空想', '自由', '德国', '革命家', '马赫', '胜利', '工农', '爱国', '富强', '西欧', '走向', '比利时', '选举', '解放', '南非', '代表', '农奴', '波兰', '君主', '忠诚', '越南', '互助', '激进', '庸俗', '掀起', '党团', '党', '义', '论断', '蒙古', '社', '政权', '害怕', '平等', '共和', '强大', '粹']\n",
      "1995 ['老挝', '社会', '主义', '政治', '南斯拉夫', '孟什维克', '议会', '意大利', '捍卫', '封建', '摧毁', '背叛', '日本', '派', '拥护', '运动', '左派', '偏见', '奴隶', '犹太', '苏维埃', '葡萄牙', '残余', '残酷', '高涨', '霸权', '和谐', '制度', '贵族', '阶级', '俄', '统治', '革命', '国民党', '政党', '机会', '民', '专政', '口号', '俄国', '工党', '而是', '伟大', '所谓', '共产', '阿尔巴尼亚', '斗争', '法国', '思潮', '氛围', '争取', '冒险', '德意志', '奥地利', '叫做', '有名', '欧洲', '民主党', '西方', '削弱', '匈牙利', '立陶宛', '专制', '空想', '自由', '德国', '革命家', '马赫', '胜利', '工农', '爱国', '富强', '西欧', '走向', '比利时', '选举', '解放', '南非', '代表', '农奴', '波兰', '君主', '忠诚', '越南', '互助', '激进', '庸俗', '掀起', '党团', '党', '义', '论断', '蒙古', '社', '政权', '害怕', '平等', '共和', '强大', '粹']\n",
      "2005 ['老挝', '社会', '主义', '政治', '南斯拉夫', '孟什维克', '议会', '意大利', '捍卫', '封建', '摧毁', '背叛', '日本', '派', '拥护', '运动', '左派', '偏见', '奴隶', '犹太', '苏维埃', '葡萄牙', '残余', '残酷', '高涨', '霸权', '和谐', '制度', '贵族', '阶级', '俄', '统治', '革命', '国民党', '政党', '机会', '民', '专政', '口号', '俄国', '工党', '而是', '伟大', '所谓', '共产', '阿尔巴尼亚', '斗争', '法国', '思潮', '氛围', '争取', '冒险', '德意志', '奥地利', '叫做', '有名', '欧洲', '民主党', '西方', '削弱', '匈牙利', '立陶宛', '专制', '空想', '自由', '德国', '革命家', '马赫', '胜利', '工农', '爱国', '富强', '西欧', '走向', '比利时', '选举', '解放', '南非', '代表', '农奴', '波兰', '君主', '忠诚', '越南', '互助', '激进', '庸俗', '掀起', '党团', '党', '义', '论断', '蒙古', '社', '政权', '害怕', '平等', '共和', '强大', '粹']\n"
     ]
    }
   ],
   "source": [
    "for i, comp in enumerate(df['substitutes']):\n",
    "    if i % 10 == 0:    \n",
    "        year = 1955 + i\n",
    "        print(year, comp)"
   ]
  },
  {
   "cell_type": "code",
   "execution_count": 156,
   "id": "99f95ea2",
   "metadata": {},
   "outputs": [
    {
     "data": {
      "text/plain": [
       "\"{'革命': -0.094, '民主党': 0.026, '俄国': -0.061, '命': 0.375, '自由': 0.057, '社会': -0.387, '共产': -0.025, '封建': -0.327, '主义': -0.365, '民': -0.074, '政治': -0.362, '越南': 0.276, '党': 0.329, '运动': -0.306, '德国': 0.064}\""
      ]
     },
     "execution_count": 156,
     "metadata": {},
     "output_type": "execute_result"
    }
   ],
   "source": [
    "df['context_dict'][0]"
   ]
  }
 ],
 "metadata": {
  "kernelspec": {
   "display_name": "Python 3 (ipykernel)",
   "language": "python",
   "name": "python3"
  },
  "language_info": {
   "codemirror_mode": {
    "name": "ipython",
    "version": 3
   },
   "file_extension": ".py",
   "mimetype": "text/x-python",
   "name": "python",
   "nbconvert_exporter": "python",
   "pygments_lexer": "ipython3",
   "version": "3.8.12"
  }
 },
 "nbformat": 4,
 "nbformat_minor": 5
}
