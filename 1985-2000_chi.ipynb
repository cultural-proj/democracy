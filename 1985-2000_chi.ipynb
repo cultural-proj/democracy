{
 "cells": [
  {
   "cell_type": "code",
   "execution_count": 31,
   "metadata": {},
   "outputs": [],
   "source": [
    "import pandas as pd\n",
    "from pandas import HDFStore\n",
    "import time, gensim, logging, os\n",
    "import numpy as np\n",
    "import multiprocessing as mp\n",
    "from functools import partial\n",
    "from gensim.models import Word2Vec\n",
    "from gensim.models.callbacks import CallbackAny2Vec\n",
    "from gensim.test.utils import datapath\n",
    "from sklearn.metrics.pairwise import cosine_similarity\n",
    "\n",
    "logging.basicConfig(format='%(asctime)s : %(levelname)s : %(message)s', level=logging.INFO)"
   ]
  },
  {
   "cell_type": "code",
   "execution_count": 4,
   "metadata": {},
   "outputs": [
    {
     "name": "stdout",
     "output_type": "stream",
     "text": [
      "/mnt/ide0/home/isabelladuan/chi_models\n"
     ]
    }
   ],
   "source": [
    "cd chi_models"
   ]
  },
  {
   "cell_type": "code",
   "execution_count": 26,
   "metadata": {},
   "outputs": [],
   "source": [
    "def get_words_and_frequencies(model, target_word, N, threshold):\n",
    "    \"\"\"\n",
    "    Take a w2v model and extract most similar words and frequencies\n",
    "    \n",
    "    Input: \n",
    "      model: the name of gensim w2v model\n",
    "      N: N top words most similar to the target word\n",
    "      target_word: the word of interest\n",
    "      threshold: number of counts below which words will be removed\n",
    "    \n",
    "    Return a dictionary that maps word to frequency.     \n",
    "    \"\"\"\n",
    "    dic = {}\n",
    "    similars = list(model.wv.most_similar(target_word, topn=N))\n",
    "    for pair in similars:\n",
    "        if model.wv.get_vecattr(pair[0], \"count\") >= threshold:\n",
    "            dic[pair[0]] = model.wv.get_vecattr(pair[0], \"count\")\n",
    "        \n",
    "    return dic"
   ]
  },
  {
   "cell_type": "code",
   "execution_count": 43,
   "metadata": {},
   "outputs": [],
   "source": [
    "def get_context_dict(model, target_word, dic):\n",
    "    \"\"\"\n",
    "    From a dictionary of most similar words to target word and their\n",
    "    frequencies, produce a dictionary of context similaries between the\n",
    "    target word and those similar words\n",
    "    \"\"\"\n",
    "    context_dict = {}\n",
    "    word1 = target_word\n",
    "    vect1 = model.syn1[model.wv.key_to_index[word1]]\n",
    "    for word in dic.keys():\n",
    "        vect2 = model.syn1[model.wv.key_to_index[word]]\n",
    "        context = cosine_similarity([vect1], [vect2])\n",
    "        context_dict[word] = context[0][0].round(3)\n",
    "        \n",
    "    return context_dict"
   ]
  },
  {
   "cell_type": "code",
   "execution_count": 36,
   "metadata": {},
   "outputs": [],
   "source": [
    "def get_comp_sub(context_dic, threshold1, threshold2):\n",
    "    \"\"\"\n",
    "    From a dictionary of context similaries, get a list of \n",
    "    complements and substitutes.\n",
    "    \n",
    "    threshold1: top N most similar contexts words that counts as complements\n",
    "    threshold2: bottom N most similar contexts words that counts as substitutes\n",
    "    \"\"\"\n",
    "    sub = []\n",
    "    for word in sorted(context_dict.items(), key=lambda x: x[1])[:threshold2]:\n",
    "        sub.append(word[0])\n",
    "    comp = []\n",
    "    for word in sorted(context_dict .items(), key=lambda x: x[1], reverse=True)[:threshold1]:\n",
    "        comp.append(word[0])\n",
    "        \n",
    "    return comp, sub\n"
   ]
  },
  {
   "cell_type": "code",
   "execution_count": 32,
   "metadata": {},
   "outputs": [],
   "source": [
    "def extract_from_models(target_word, N, threshold0, threshold1, threshold2):\n",
    "    \"\"\"\n",
    "    Extract a dataframe of most similar words to a target word from\n",
    "    models stored in current directory\n",
    "    \n",
    "    threshold0: top N most similar words\n",
    "    threshold1: top N most similar contexts words that counts as complements\n",
    "    threshold2: bottom N most similar contexts words that counts as substitutes    \n",
    "    \"\"\"\n",
    "    comps = []\n",
    "    subs = []\n",
    "    years = []\n",
    "    contexts = []\n",
    "    freqs = []\n",
    "    for file in os.listdir():\n",
    "        if file.endswith('.sg'):\n",
    "            model = gensim.models.Word2Vec.load(file)\n",
    "            dic = get_words_and_frequencies(model, target_word, N, threshold0)\n",
    "            context_dict = get_context_dict(model, target_word, dic)\n",
    "            comp, sub = get_comp_sub(context_dic, threshold1, threshold2)\n",
    "            \n",
    "            freqs.append(dic)\n",
    "            contexts.append(context_dic)\n",
    "            comps.append(comp)\n",
    "            subs.append(sub)\n",
    "            years.append(file)\n",
    "            \n",
    "    return pandas.DataFrame({'complements': comps,\n",
    "                             'substitutes': subs,\n",
    "                             'frequency_dict': freqs,\n",
    "                             'context_dict': contexts}, index =years)"
   ]
  },
  {
   "cell_type": "code",
   "execution_count": 33,
   "metadata": {},
   "outputs": [],
   "source": [
    "dic = get_words_and_frequencies(chi_model, '民主', 500, 100)"
   ]
  },
  {
   "cell_type": "code",
   "execution_count": 44,
   "metadata": {},
   "outputs": [
    {
     "ename": "AttributeError",
     "evalue": "'Word2Vec' object has no attribute 'syn1'",
     "output_type": "error",
     "traceback": [
      "\u001b[0;31m---------------------------------------------------------------------------\u001b[0m",
      "\u001b[0;31mAttributeError\u001b[0m                            Traceback (most recent call last)",
      "\u001b[0;32m<ipython-input-44-d0b4ef80cef4>\u001b[0m in \u001b[0;36m<module>\u001b[0;34m\u001b[0m\n\u001b[0;32m----> 1\u001b[0;31m \u001b[0mcontext_dict\u001b[0m \u001b[0;34m=\u001b[0m \u001b[0mget_context_dict\u001b[0m\u001b[0;34m(\u001b[0m\u001b[0mchi_model\u001b[0m\u001b[0;34m,\u001b[0m \u001b[0;34m'民主'\u001b[0m\u001b[0;34m,\u001b[0m \u001b[0mdic\u001b[0m\u001b[0;34m)\u001b[0m\u001b[0;34m\u001b[0m\u001b[0;34m\u001b[0m\u001b[0m\n\u001b[0m",
      "\u001b[0;32m<ipython-input-43-4d7392420fac>\u001b[0m in \u001b[0;36mget_context_dict\u001b[0;34m(model, target_word, dic)\u001b[0m\n\u001b[1;32m      7\u001b[0m     \u001b[0mcontext_dict\u001b[0m \u001b[0;34m=\u001b[0m \u001b[0;34m{\u001b[0m\u001b[0;34m}\u001b[0m\u001b[0;34m\u001b[0m\u001b[0;34m\u001b[0m\u001b[0m\n\u001b[1;32m      8\u001b[0m     \u001b[0mword1\u001b[0m \u001b[0;34m=\u001b[0m \u001b[0mtarget_word\u001b[0m\u001b[0;34m\u001b[0m\u001b[0;34m\u001b[0m\u001b[0m\n\u001b[0;32m----> 9\u001b[0;31m     \u001b[0mvect1\u001b[0m \u001b[0;34m=\u001b[0m \u001b[0mmodel\u001b[0m\u001b[0;34m.\u001b[0m\u001b[0msyn1\u001b[0m\u001b[0;34m[\u001b[0m\u001b[0mmodel\u001b[0m\u001b[0;34m.\u001b[0m\u001b[0mwv\u001b[0m\u001b[0;34m.\u001b[0m\u001b[0mkey_to_index\u001b[0m\u001b[0;34m[\u001b[0m\u001b[0mword1\u001b[0m\u001b[0;34m]\u001b[0m\u001b[0;34m]\u001b[0m\u001b[0;34m\u001b[0m\u001b[0;34m\u001b[0m\u001b[0m\n\u001b[0m\u001b[1;32m     10\u001b[0m     \u001b[0;32mfor\u001b[0m \u001b[0mword\u001b[0m \u001b[0;32min\u001b[0m \u001b[0mdic\u001b[0m\u001b[0;34m.\u001b[0m\u001b[0mkeys\u001b[0m\u001b[0;34m(\u001b[0m\u001b[0;34m)\u001b[0m\u001b[0;34m:\u001b[0m\u001b[0;34m\u001b[0m\u001b[0;34m\u001b[0m\u001b[0m\n\u001b[1;32m     11\u001b[0m         \u001b[0mvect2\u001b[0m \u001b[0;34m=\u001b[0m \u001b[0mmodel\u001b[0m\u001b[0;34m.\u001b[0m\u001b[0msyn1\u001b[0m\u001b[0;34m[\u001b[0m\u001b[0mmodel\u001b[0m\u001b[0;34m.\u001b[0m\u001b[0mwv\u001b[0m\u001b[0;34m.\u001b[0m\u001b[0mkey_to_index\u001b[0m\u001b[0;34m[\u001b[0m\u001b[0mword\u001b[0m\u001b[0;34m]\u001b[0m\u001b[0;34m]\u001b[0m\u001b[0;34m\u001b[0m\u001b[0;34m\u001b[0m\u001b[0m\n",
      "\u001b[0;31mAttributeError\u001b[0m: 'Word2Vec' object has no attribute 'syn1'"
     ]
    }
   ],
   "source": [
    "context_dict = get_context_dict(chi_model, '民主', dic)"
   ]
  },
  {
   "cell_type": "code",
   "execution_count": 53,
   "metadata": {},
   "outputs": [
    {
     "ename": "AttributeError",
     "evalue": "'KeyedVectors' object has no attribute 'syn0'",
     "output_type": "error",
     "traceback": [
      "\u001b[0;31m---------------------------------------------------------------------------\u001b[0m",
      "\u001b[0;31mAttributeError\u001b[0m                            Traceback (most recent call last)",
      "\u001b[0;32m<ipython-input-53-5f68ffb46dfb>\u001b[0m in \u001b[0;36m<module>\u001b[0;34m\u001b[0m\n\u001b[0;32m----> 1\u001b[0;31m \u001b[0mchi_model\u001b[0m\u001b[0;34m.\u001b[0m\u001b[0mwv\u001b[0m\u001b[0;34m.\u001b[0m\u001b[0msyn0\u001b[0m\u001b[0;34m\u001b[0m\u001b[0;34m\u001b[0m\u001b[0m\n\u001b[0m",
      "\u001b[0;31mAttributeError\u001b[0m: 'KeyedVectors' object has no attribute 'syn0'"
     ]
    }
   ],
   "source": [
    "chi_model.wv.syn0"
   ]
  },
  {
   "cell_type": "code",
   "execution_count": 51,
   "metadata": {},
   "outputs": [
    {
     "ename": "AttributeError",
     "evalue": "'KeyedVectors' object has no attribute 'syn1'",
     "output_type": "error",
     "traceback": [
      "\u001b[0;31m---------------------------------------------------------------------------\u001b[0m",
      "\u001b[0;31mAttributeError\u001b[0m                            Traceback (most recent call last)",
      "\u001b[0;32m<ipython-input-51-bf382f0eda4f>\u001b[0m in \u001b[0;36m<module>\u001b[0;34m\u001b[0m\n\u001b[1;32m      1\u001b[0m \u001b[0mword1\u001b[0m \u001b[0;34m=\u001b[0m \u001b[0;34m'民主'\u001b[0m\u001b[0;34m\u001b[0m\u001b[0;34m\u001b[0m\u001b[0m\n\u001b[0;32m----> 2\u001b[0;31m \u001b[0mchi_model\u001b[0m\u001b[0;34m.\u001b[0m\u001b[0mwv\u001b[0m\u001b[0;34m.\u001b[0m\u001b[0msyn1\u001b[0m\u001b[0;34m[\u001b[0m\u001b[0mchi_model\u001b[0m\u001b[0;34m.\u001b[0m\u001b[0mwv\u001b[0m\u001b[0;34m.\u001b[0m\u001b[0mkey_to_index\u001b[0m\u001b[0;34m[\u001b[0m\u001b[0mword1\u001b[0m\u001b[0;34m]\u001b[0m\u001b[0;34m]\u001b[0m\u001b[0;34m\u001b[0m\u001b[0;34m\u001b[0m\u001b[0m\n\u001b[0m",
      "\u001b[0;31mAttributeError\u001b[0m: 'KeyedVectors' object has no attribute 'syn1'"
     ]
    }
   ],
   "source": [
    "word1 = '民主'\n",
    "chi_model.wv.syn1[chi_model.wv.key_to_index[word1]]"
   ]
  },
  {
   "cell_type": "code",
   "execution_count": 30,
   "metadata": {
    "collapsed": true
   },
   "outputs": [
    {
     "name": "stderr",
     "output_type": "stream",
     "text": [
      "2022-03-02 09:25:41,983 : INFO : loading Word2Vec object from 1985.sg\n",
      "2022-03-02 09:25:42,545 : INFO : loading wv recursively from 1985.sg.wv.* with mmap=None\n",
      "2022-03-02 09:25:42,546 : INFO : setting ignored attribute vectors_norm to None\n",
      "2022-03-02 09:25:42,929 : INFO : loading vocabulary recursively from 1985.sg.vocabulary.* with mmap=None\n",
      "2022-03-02 09:25:42,930 : INFO : loading trainables recursively from 1985.sg.trainables.* with mmap=None\n",
      "2022-03-02 09:25:42,930 : INFO : setting ignored attribute cum_table to None\n",
      "2022-03-02 09:25:43,134 : INFO : Word2Vec lifecycle event {'fname': '1985.sg', 'datetime': '2022-03-02T09:25:43.134238', 'gensim': '4.1.2', 'python': '3.7.4 (default, Aug 13 2019, 20:35:49) \\n[GCC 7.3.0]', 'platform': 'Linux-3.10.0-1160.45.1.el7.x86_64-x86_64-with-redhat-7.9-Maipo', 'event': 'loaded'}\n",
      "2022-03-02 09:25:43,142 : INFO : loading Word2Vec object from 1993.sg\n",
      "2022-03-02 09:25:43,774 : INFO : loading wv recursively from 1993.sg.wv.* with mmap=None\n",
      "2022-03-02 09:25:43,775 : INFO : setting ignored attribute vectors_norm to None\n",
      "2022-03-02 09:25:44,178 : INFO : loading vocabulary recursively from 1993.sg.vocabulary.* with mmap=None\n",
      "2022-03-02 09:25:44,179 : INFO : loading trainables recursively from 1993.sg.trainables.* with mmap=None\n",
      "2022-03-02 09:25:44,179 : INFO : setting ignored attribute cum_table to None\n",
      "2022-03-02 09:25:44,392 : INFO : Word2Vec lifecycle event {'fname': '1993.sg', 'datetime': '2022-03-02T09:25:44.392928', 'gensim': '4.1.2', 'python': '3.7.4 (default, Aug 13 2019, 20:35:49) \\n[GCC 7.3.0]', 'platform': 'Linux-3.10.0-1160.45.1.el7.x86_64-x86_64-with-redhat-7.9-Maipo', 'event': 'loaded'}\n",
      "2022-03-02 09:25:44,419 : INFO : loading Word2Vec object from 1995.sg\n",
      "2022-03-02 09:25:44,998 : INFO : loading wv recursively from 1995.sg.wv.* with mmap=None\n",
      "2022-03-02 09:25:44,999 : INFO : setting ignored attribute vectors_norm to None\n",
      "2022-03-02 09:25:45,390 : INFO : loading vocabulary recursively from 1995.sg.vocabulary.* with mmap=None\n",
      "2022-03-02 09:25:45,390 : INFO : loading trainables recursively from 1995.sg.trainables.* with mmap=None\n",
      "2022-03-02 09:25:45,391 : INFO : setting ignored attribute cum_table to None\n",
      "2022-03-02 09:25:45,598 : INFO : Word2Vec lifecycle event {'fname': '1995.sg', 'datetime': '2022-03-02T09:25:45.598808', 'gensim': '4.1.2', 'python': '3.7.4 (default, Aug 13 2019, 20:35:49) \\n[GCC 7.3.0]', 'platform': 'Linux-3.10.0-1160.45.1.el7.x86_64-x86_64-with-redhat-7.9-Maipo', 'event': 'loaded'}\n",
      "2022-03-02 09:25:45,624 : INFO : loading Word2Vec object from 1958.sg\n",
      "2022-03-02 09:25:46,093 : INFO : loading wv recursively from 1958.sg.wv.* with mmap=None\n",
      "2022-03-02 09:25:46,094 : INFO : setting ignored attribute vectors_norm to None\n",
      "2022-03-02 09:25:46,362 : INFO : loading vocabulary recursively from 1958.sg.vocabulary.* with mmap=None\n",
      "2022-03-02 09:25:46,363 : INFO : loading trainables recursively from 1958.sg.trainables.* with mmap=None\n",
      "2022-03-02 09:25:46,363 : INFO : setting ignored attribute cum_table to None\n",
      "2022-03-02 09:25:46,504 : INFO : Word2Vec lifecycle event {'fname': '1958.sg', 'datetime': '2022-03-02T09:25:46.504477', 'gensim': '4.1.2', 'python': '3.7.4 (default, Aug 13 2019, 20:35:49) \\n[GCC 7.3.0]', 'platform': 'Linux-3.10.0-1160.45.1.el7.x86_64-x86_64-with-redhat-7.9-Maipo', 'event': 'loaded'}\n",
      "2022-03-02 09:25:46,535 : INFO : loading Word2Vec object from 1983.sg\n",
      "2022-03-02 09:25:47,140 : INFO : loading wv recursively from 1983.sg.wv.* with mmap=None\n",
      "2022-03-02 09:25:47,140 : INFO : setting ignored attribute vectors_norm to None\n",
      "2022-03-02 09:25:47,525 : INFO : loading vocabulary recursively from 1983.sg.vocabulary.* with mmap=None\n",
      "2022-03-02 09:25:47,526 : INFO : loading trainables recursively from 1983.sg.trainables.* with mmap=None\n",
      "2022-03-02 09:25:47,526 : INFO : setting ignored attribute cum_table to None\n",
      "2022-03-02 09:25:47,725 : INFO : Word2Vec lifecycle event {'fname': '1983.sg', 'datetime': '2022-03-02T09:25:47.725144', 'gensim': '4.1.2', 'python': '3.7.4 (default, Aug 13 2019, 20:35:49) \\n[GCC 7.3.0]', 'platform': 'Linux-3.10.0-1160.45.1.el7.x86_64-x86_64-with-redhat-7.9-Maipo', 'event': 'loaded'}\n",
      "2022-03-02 09:25:47,748 : INFO : loading Word2Vec object from 1975.sg\n",
      "2022-03-02 09:25:52,527 : INFO : loading wv recursively from 1975.sg.wv.* with mmap=None\n",
      "2022-03-02 09:25:52,528 : INFO : setting ignored attribute vectors_norm to None\n",
      "2022-03-02 09:25:52,858 : INFO : loading vocabulary recursively from 1975.sg.vocabulary.* with mmap=None\n",
      "2022-03-02 09:25:52,859 : INFO : loading trainables recursively from 1975.sg.trainables.* with mmap=None\n",
      "2022-03-02 09:25:52,859 : INFO : setting ignored attribute cum_table to None\n",
      "2022-03-02 09:25:53,031 : INFO : Word2Vec lifecycle event {'fname': '1975.sg', 'datetime': '2022-03-02T09:25:53.031449', 'gensim': '4.1.2', 'python': '3.7.4 (default, Aug 13 2019, 20:35:49) \\n[GCC 7.3.0]', 'platform': 'Linux-3.10.0-1160.45.1.el7.x86_64-x86_64-with-redhat-7.9-Maipo', 'event': 'loaded'}\n",
      "2022-03-02 09:25:53,059 : INFO : loading Word2Vec object from 1960.sg\n",
      "2022-03-02 09:25:57,741 : INFO : loading wv recursively from 1960.sg.wv.* with mmap=None\n",
      "2022-03-02 09:25:57,742 : INFO : setting ignored attribute vectors_norm to None\n",
      "2022-03-02 09:25:58,009 : INFO : loading vocabulary recursively from 1960.sg.vocabulary.* with mmap=None\n",
      "2022-03-02 09:25:58,009 : INFO : loading trainables recursively from 1960.sg.trainables.* with mmap=None\n",
      "2022-03-02 09:25:58,010 : INFO : setting ignored attribute cum_table to None\n",
      "2022-03-02 09:25:58,149 : INFO : Word2Vec lifecycle event {'fname': '1960.sg', 'datetime': '2022-03-02T09:25:58.149587', 'gensim': '4.1.2', 'python': '3.7.4 (default, Aug 13 2019, 20:35:49) \\n[GCC 7.3.0]', 'platform': 'Linux-3.10.0-1160.45.1.el7.x86_64-x86_64-with-redhat-7.9-Maipo', 'event': 'loaded'}\n",
      "2022-03-02 09:25:58,170 : INFO : loading Word2Vec object from 2006.sg\n",
      "2022-03-02 09:25:58,856 : INFO : loading wv recursively from 2006.sg.wv.* with mmap=None\n",
      "2022-03-02 09:25:58,857 : INFO : setting ignored attribute vectors_norm to None\n",
      "2022-03-02 09:25:59,257 : INFO : loading vocabulary recursively from 2006.sg.vocabulary.* with mmap=None\n",
      "2022-03-02 09:25:59,257 : INFO : loading trainables recursively from 2006.sg.trainables.* with mmap=None\n",
      "2022-03-02 09:25:59,258 : INFO : setting ignored attribute cum_table to None\n",
      "2022-03-02 09:25:59,471 : INFO : Word2Vec lifecycle event {'fname': '2006.sg', 'datetime': '2022-03-02T09:25:59.471897', 'gensim': '4.1.2', 'python': '3.7.4 (default, Aug 13 2019, 20:35:49) \\n[GCC 7.3.0]', 'platform': 'Linux-3.10.0-1160.45.1.el7.x86_64-x86_64-with-redhat-7.9-Maipo', 'event': 'loaded'}\n",
      "2022-03-02 09:25:59,492 : INFO : loading Word2Vec object from 1972.sg\n",
      "2022-03-02 09:26:00,001 : INFO : loading wv recursively from 1972.sg.wv.* with mmap=None\n",
      "2022-03-02 09:26:00,001 : INFO : setting ignored attribute vectors_norm to None\n",
      "2022-03-02 09:26:00,328 : INFO : loading vocabulary recursively from 1972.sg.vocabulary.* with mmap=None\n",
      "2022-03-02 09:26:00,329 : INFO : loading trainables recursively from 1972.sg.trainables.* with mmap=None\n",
      "2022-03-02 09:26:00,329 : INFO : setting ignored attribute cum_table to None\n",
      "2022-03-02 09:26:00,497 : INFO : Word2Vec lifecycle event {'fname': '1972.sg', 'datetime': '2022-03-02T09:26:00.497708', 'gensim': '4.1.2', 'python': '3.7.4 (default, Aug 13 2019, 20:35:49) \\n[GCC 7.3.0]', 'platform': 'Linux-3.10.0-1160.45.1.el7.x86_64-x86_64-with-redhat-7.9-Maipo', 'event': 'loaded'}\n",
      "2022-03-02 09:26:00,530 : INFO : loading Word2Vec object from 1987.sg\n",
      "2022-03-02 09:26:01,189 : INFO : loading wv recursively from 1987.sg.wv.* with mmap=None\n",
      "2022-03-02 09:26:01,190 : INFO : setting ignored attribute vectors_norm to None\n",
      "2022-03-02 09:26:01,574 : INFO : loading vocabulary recursively from 1987.sg.vocabulary.* with mmap=None\n",
      "2022-03-02 09:26:01,574 : INFO : loading trainables recursively from 1987.sg.trainables.* with mmap=None\n",
      "2022-03-02 09:26:01,575 : INFO : setting ignored attribute cum_table to None\n",
      "2022-03-02 09:26:01,774 : INFO : Word2Vec lifecycle event {'fname': '1987.sg', 'datetime': '2022-03-02T09:26:01.774297', 'gensim': '4.1.2', 'python': '3.7.4 (default, Aug 13 2019, 20:35:49) \\n[GCC 7.3.0]', 'platform': 'Linux-3.10.0-1160.45.1.el7.x86_64-x86_64-with-redhat-7.9-Maipo', 'event': 'loaded'}\n"
     ]
    },
    {
     "name": "stderr",
     "output_type": "stream",
     "text": [
      "2022-03-02 09:26:01,802 : INFO : loading Word2Vec object from 1971.sg\n",
      "2022-03-02 09:26:06,149 : INFO : loading wv recursively from 1971.sg.wv.* with mmap=None\n",
      "2022-03-02 09:26:06,150 : INFO : setting ignored attribute vectors_norm to None\n",
      "2022-03-02 09:26:06,438 : INFO : loading vocabulary recursively from 1971.sg.vocabulary.* with mmap=None\n",
      "2022-03-02 09:26:06,439 : INFO : loading trainables recursively from 1971.sg.trainables.* with mmap=None\n",
      "2022-03-02 09:26:06,439 : INFO : setting ignored attribute cum_table to None\n",
      "2022-03-02 09:26:06,591 : INFO : Word2Vec lifecycle event {'fname': '1971.sg', 'datetime': '2022-03-02T09:26:06.591867', 'gensim': '4.1.2', 'python': '3.7.4 (default, Aug 13 2019, 20:35:49) \\n[GCC 7.3.0]', 'platform': 'Linux-3.10.0-1160.45.1.el7.x86_64-x86_64-with-redhat-7.9-Maipo', 'event': 'loaded'}\n",
      "2022-03-02 09:26:06,619 : INFO : loading Word2Vec object from 1955.sg\n",
      "2022-03-02 09:26:07,062 : INFO : loading wv recursively from 1955.sg.wv.* with mmap=None\n",
      "2022-03-02 09:26:07,063 : INFO : setting ignored attribute vectors_norm to None\n",
      "2022-03-02 09:26:07,366 : INFO : loading vocabulary recursively from 1955.sg.vocabulary.* with mmap=None\n",
      "2022-03-02 09:26:07,366 : INFO : loading trainables recursively from 1955.sg.trainables.* with mmap=None\n",
      "2022-03-02 09:26:07,367 : INFO : setting ignored attribute cum_table to None\n",
      "2022-03-02 09:26:07,527 : INFO : Word2Vec lifecycle event {'fname': '1955.sg', 'datetime': '2022-03-02T09:26:07.527062', 'gensim': '4.1.2', 'python': '3.7.4 (default, Aug 13 2019, 20:35:49) \\n[GCC 7.3.0]', 'platform': 'Linux-3.10.0-1160.45.1.el7.x86_64-x86_64-with-redhat-7.9-Maipo', 'event': 'loaded'}\n",
      "2022-03-02 09:26:07,550 : INFO : loading Word2Vec object from 1956.sg\n",
      "2022-03-02 09:26:07,947 : INFO : loading wv recursively from 1956.sg.wv.* with mmap=None\n",
      "2022-03-02 09:26:07,947 : INFO : setting ignored attribute vectors_norm to None\n",
      "2022-03-02 09:26:08,199 : INFO : loading vocabulary recursively from 1956.sg.vocabulary.* with mmap=None\n",
      "2022-03-02 09:26:08,199 : INFO : loading trainables recursively from 1956.sg.trainables.* with mmap=None\n",
      "2022-03-02 09:26:08,200 : INFO : setting ignored attribute cum_table to None\n",
      "2022-03-02 09:26:08,335 : INFO : Word2Vec lifecycle event {'fname': '1956.sg', 'datetime': '2022-03-02T09:26:08.335305', 'gensim': '4.1.2', 'python': '3.7.4 (default, Aug 13 2019, 20:35:49) \\n[GCC 7.3.0]', 'platform': 'Linux-3.10.0-1160.45.1.el7.x86_64-x86_64-with-redhat-7.9-Maipo', 'event': 'loaded'}\n",
      "2022-03-02 09:26:08,355 : INFO : loading Word2Vec object from 2004.sg\n",
      "2022-03-02 09:26:09,021 : INFO : loading wv recursively from 2004.sg.wv.* with mmap=None\n",
      "2022-03-02 09:26:09,022 : INFO : setting ignored attribute vectors_norm to None\n",
      "2022-03-02 09:26:09,436 : INFO : loading vocabulary recursively from 2004.sg.vocabulary.* with mmap=None\n",
      "2022-03-02 09:26:09,437 : INFO : loading trainables recursively from 2004.sg.trainables.* with mmap=None\n",
      "2022-03-02 09:26:09,438 : INFO : setting ignored attribute cum_table to None\n",
      "2022-03-02 09:26:09,652 : INFO : Word2Vec lifecycle event {'fname': '2004.sg', 'datetime': '2022-03-02T09:26:09.652261', 'gensim': '4.1.2', 'python': '3.7.4 (default, Aug 13 2019, 20:35:49) \\n[GCC 7.3.0]', 'platform': 'Linux-3.10.0-1160.45.1.el7.x86_64-x86_64-with-redhat-7.9-Maipo', 'event': 'loaded'}\n",
      "2022-03-02 09:26:09,677 : INFO : loading Word2Vec object from 1978.sg\n",
      "2022-03-02 09:26:14,973 : INFO : loading wv recursively from 1978.sg.wv.* with mmap=None\n",
      "2022-03-02 09:26:14,974 : INFO : setting ignored attribute vectors_norm to None\n",
      "2022-03-02 09:26:15,335 : INFO : loading vocabulary recursively from 1978.sg.vocabulary.* with mmap=None\n",
      "2022-03-02 09:26:15,336 : INFO : loading trainables recursively from 1978.sg.trainables.* with mmap=None\n",
      "2022-03-02 09:26:15,336 : INFO : setting ignored attribute cum_table to None\n",
      "2022-03-02 09:26:15,526 : INFO : Word2Vec lifecycle event {'fname': '1978.sg', 'datetime': '2022-03-02T09:26:15.526286', 'gensim': '4.1.2', 'python': '3.7.4 (default, Aug 13 2019, 20:35:49) \\n[GCC 7.3.0]', 'platform': 'Linux-3.10.0-1160.45.1.el7.x86_64-x86_64-with-redhat-7.9-Maipo', 'event': 'loaded'}\n",
      "2022-03-02 09:26:15,553 : INFO : loading Word2Vec object from 1999.sg\n",
      "2022-03-02 09:26:20,874 : INFO : loading wv recursively from 1999.sg.wv.* with mmap=None\n",
      "2022-03-02 09:26:20,875 : INFO : setting ignored attribute vectors_norm to None\n",
      "2022-03-02 09:26:21,288 : INFO : loading vocabulary recursively from 1999.sg.vocabulary.* with mmap=None\n",
      "2022-03-02 09:26:21,288 : INFO : loading trainables recursively from 1999.sg.trainables.* with mmap=None\n",
      "2022-03-02 09:26:21,289 : INFO : setting ignored attribute cum_table to None\n",
      "2022-03-02 09:26:21,504 : INFO : Word2Vec lifecycle event {'fname': '1999.sg', 'datetime': '2022-03-02T09:26:21.504437', 'gensim': '4.1.2', 'python': '3.7.4 (default, Aug 13 2019, 20:35:49) \\n[GCC 7.3.0]', 'platform': 'Linux-3.10.0-1160.45.1.el7.x86_64-x86_64-with-redhat-7.9-Maipo', 'event': 'loaded'}\n",
      "2022-03-02 09:26:21,537 : INFO : loading Word2Vec object from 1998.sg\n",
      "2022-03-02 09:26:26,700 : INFO : loading wv recursively from 1998.sg.wv.* with mmap=None\n",
      "2022-03-02 09:26:26,701 : INFO : setting ignored attribute vectors_norm to None\n",
      "2022-03-02 09:26:27,098 : INFO : loading vocabulary recursively from 1998.sg.vocabulary.* with mmap=None\n",
      "2022-03-02 09:26:27,099 : INFO : loading trainables recursively from 1998.sg.trainables.* with mmap=None\n",
      "2022-03-02 09:26:27,099 : INFO : setting ignored attribute cum_table to None\n",
      "2022-03-02 09:26:27,309 : INFO : Word2Vec lifecycle event {'fname': '1998.sg', 'datetime': '2022-03-02T09:26:27.309951', 'gensim': '4.1.2', 'python': '3.7.4 (default, Aug 13 2019, 20:35:49) \\n[GCC 7.3.0]', 'platform': 'Linux-3.10.0-1160.45.1.el7.x86_64-x86_64-with-redhat-7.9-Maipo', 'event': 'loaded'}\n",
      "2022-03-02 09:26:27,336 : INFO : loading Word2Vec object from 1997.sg\n",
      "2022-03-02 09:26:28,023 : INFO : loading wv recursively from 1997.sg.wv.* with mmap=None\n",
      "2022-03-02 09:26:28,023 : INFO : setting ignored attribute vectors_norm to None\n",
      "2022-03-02 09:26:28,433 : INFO : loading vocabulary recursively from 1997.sg.vocabulary.* with mmap=None\n",
      "2022-03-02 09:26:28,433 : INFO : loading trainables recursively from 1997.sg.trainables.* with mmap=None\n",
      "2022-03-02 09:26:28,434 : INFO : setting ignored attribute cum_table to None\n",
      "2022-03-02 09:26:28,647 : INFO : Word2Vec lifecycle event {'fname': '1997.sg', 'datetime': '2022-03-02T09:26:28.647803', 'gensim': '4.1.2', 'python': '3.7.4 (default, Aug 13 2019, 20:35:49) \\n[GCC 7.3.0]', 'platform': 'Linux-3.10.0-1160.45.1.el7.x86_64-x86_64-with-redhat-7.9-Maipo', 'event': 'loaded'}\n",
      "2022-03-02 09:26:28,684 : INFO : loading Word2Vec object from 2001.sg\n",
      "2022-03-02 09:26:29,342 : INFO : loading wv recursively from 2001.sg.wv.* with mmap=None\n",
      "2022-03-02 09:26:29,343 : INFO : setting ignored attribute vectors_norm to None\n",
      "2022-03-02 09:26:29,748 : INFO : loading vocabulary recursively from 2001.sg.vocabulary.* with mmap=None\n",
      "2022-03-02 09:26:29,749 : INFO : loading trainables recursively from 2001.sg.trainables.* with mmap=None\n",
      "2022-03-02 09:26:29,750 : INFO : setting ignored attribute cum_table to None\n",
      "2022-03-02 09:26:29,961 : INFO : Word2Vec lifecycle event {'fname': '2001.sg', 'datetime': '2022-03-02T09:26:29.961418', 'gensim': '4.1.2', 'python': '3.7.4 (default, Aug 13 2019, 20:35:49) \\n[GCC 7.3.0]', 'platform': 'Linux-3.10.0-1160.45.1.el7.x86_64-x86_64-with-redhat-7.9-Maipo', 'event': 'loaded'}\n",
      "2022-03-02 09:26:29,994 : INFO : loading Word2Vec object from 1991.sg\n",
      "2022-03-02 09:26:30,664 : INFO : loading wv recursively from 1991.sg.wv.* with mmap=None\n",
      "2022-03-02 09:26:30,665 : INFO : setting ignored attribute vectors_norm to None\n",
      "2022-03-02 09:26:31,050 : INFO : loading vocabulary recursively from 1991.sg.vocabulary.* with mmap=None\n",
      "2022-03-02 09:26:31,051 : INFO : loading trainables recursively from 1991.sg.trainables.* with mmap=None\n",
      "2022-03-02 09:26:31,051 : INFO : setting ignored attribute cum_table to None\n",
      "2022-03-02 09:26:31,255 : INFO : Word2Vec lifecycle event {'fname': '1991.sg', 'datetime': '2022-03-02T09:26:31.255803', 'gensim': '4.1.2', 'python': '3.7.4 (default, Aug 13 2019, 20:35:49) \\n[GCC 7.3.0]', 'platform': 'Linux-3.10.0-1160.45.1.el7.x86_64-x86_64-with-redhat-7.9-Maipo', 'event': 'loaded'}\n"
     ]
    },
    {
     "name": "stderr",
     "output_type": "stream",
     "text": [
      "2022-03-02 09:26:31,283 : INFO : loading Word2Vec object from 1962.sg\n",
      "2022-03-02 09:26:31,721 : INFO : loading wv recursively from 1962.sg.wv.* with mmap=None\n",
      "2022-03-02 09:26:31,722 : INFO : setting ignored attribute vectors_norm to None\n",
      "2022-03-02 09:26:32,008 : INFO : loading vocabulary recursively from 1962.sg.vocabulary.* with mmap=None\n",
      "2022-03-02 09:26:32,009 : INFO : loading trainables recursively from 1962.sg.trainables.* with mmap=None\n",
      "2022-03-02 09:26:32,010 : INFO : setting ignored attribute cum_table to None\n",
      "2022-03-02 09:26:32,158 : INFO : Word2Vec lifecycle event {'fname': '1962.sg', 'datetime': '2022-03-02T09:26:32.158865', 'gensim': '4.1.2', 'python': '3.7.4 (default, Aug 13 2019, 20:35:49) \\n[GCC 7.3.0]', 'platform': 'Linux-3.10.0-1160.45.1.el7.x86_64-x86_64-with-redhat-7.9-Maipo', 'event': 'loaded'}\n",
      "2022-03-02 09:26:32,184 : INFO : loading Word2Vec object from 1970.sg\n"
     ]
    },
    {
     "ename": "KeyboardInterrupt",
     "evalue": "",
     "output_type": "error",
     "traceback": [
      "\u001b[0;31m---------------------------------------------------------------------------\u001b[0m",
      "\u001b[0;31mKeyboardInterrupt\u001b[0m                         Traceback (most recent call last)",
      "\u001b[0;32m<ipython-input-30-b7088203c2f9>\u001b[0m in \u001b[0;36m<module>\u001b[0;34m\u001b[0m\n\u001b[0;32m----> 1\u001b[0;31m \u001b[0mdf\u001b[0m \u001b[0;34m=\u001b[0m \u001b[0mextract_from_models\u001b[0m\u001b[0;34m(\u001b[0m\u001b[0;34m'民主'\u001b[0m\u001b[0;34m,\u001b[0m \u001b[0;36m500\u001b[0m\u001b[0;34m,\u001b[0m \u001b[0;36m100\u001b[0m\u001b[0;34m)\u001b[0m\u001b[0;34m\u001b[0m\u001b[0;34m\u001b[0m\u001b[0m\n\u001b[0m",
      "\u001b[0;32m<ipython-input-27-54bf866b8d51>\u001b[0m in \u001b[0;36mextract_from_models\u001b[0;34m(target_word, N, threshould)\u001b[0m\n\u001b[1;32m      8\u001b[0m     \u001b[0;32mfor\u001b[0m \u001b[0mfile\u001b[0m \u001b[0;32min\u001b[0m \u001b[0mos\u001b[0m\u001b[0;34m.\u001b[0m\u001b[0mlistdir\u001b[0m\u001b[0;34m(\u001b[0m\u001b[0;34m)\u001b[0m\u001b[0;34m:\u001b[0m\u001b[0;34m\u001b[0m\u001b[0;34m\u001b[0m\u001b[0m\n\u001b[1;32m      9\u001b[0m         \u001b[0;32mif\u001b[0m \u001b[0mfile\u001b[0m\u001b[0;34m.\u001b[0m\u001b[0mendswith\u001b[0m\u001b[0;34m(\u001b[0m\u001b[0;34m'.sg'\u001b[0m\u001b[0;34m)\u001b[0m\u001b[0;34m:\u001b[0m\u001b[0;34m\u001b[0m\u001b[0;34m\u001b[0m\u001b[0m\n\u001b[0;32m---> 10\u001b[0;31m             \u001b[0mmodel\u001b[0m \u001b[0;34m=\u001b[0m \u001b[0mgensim\u001b[0m\u001b[0;34m.\u001b[0m\u001b[0mmodels\u001b[0m\u001b[0;34m.\u001b[0m\u001b[0mWord2Vec\u001b[0m\u001b[0;34m.\u001b[0m\u001b[0mload\u001b[0m\u001b[0;34m(\u001b[0m\u001b[0mfile\u001b[0m\u001b[0;34m)\u001b[0m\u001b[0;34m\u001b[0m\u001b[0;34m\u001b[0m\u001b[0m\n\u001b[0m\u001b[1;32m     11\u001b[0m             \u001b[0mdic\u001b[0m \u001b[0;34m=\u001b[0m \u001b[0mget_words_and_frequencies\u001b[0m\u001b[0;34m(\u001b[0m\u001b[0mmodel\u001b[0m\u001b[0;34m,\u001b[0m \u001b[0mtarget_word\u001b[0m\u001b[0;34m,\u001b[0m \u001b[0mN\u001b[0m\u001b[0;34m,\u001b[0m \u001b[0mthreshould\u001b[0m\u001b[0;34m)\u001b[0m\u001b[0;34m\u001b[0m\u001b[0;34m\u001b[0m\u001b[0m\n\u001b[1;32m     12\u001b[0m \u001b[0;34m\u001b[0m\u001b[0m\n",
      "\u001b[0;32m~/.local/lib/python3.7/site-packages/gensim/models/word2vec.py\u001b[0m in \u001b[0;36mload\u001b[0;34m(cls, rethrow, *args, **kwargs)\u001b[0m\n\u001b[1;32m   1928\u001b[0m         \"\"\"\n\u001b[1;32m   1929\u001b[0m         \u001b[0;32mtry\u001b[0m\u001b[0;34m:\u001b[0m\u001b[0;34m\u001b[0m\u001b[0;34m\u001b[0m\u001b[0m\n\u001b[0;32m-> 1930\u001b[0;31m             \u001b[0mmodel\u001b[0m \u001b[0;34m=\u001b[0m \u001b[0msuper\u001b[0m\u001b[0;34m(\u001b[0m\u001b[0mWord2Vec\u001b[0m\u001b[0;34m,\u001b[0m \u001b[0mcls\u001b[0m\u001b[0;34m)\u001b[0m\u001b[0;34m.\u001b[0m\u001b[0mload\u001b[0m\u001b[0;34m(\u001b[0m\u001b[0;34m*\u001b[0m\u001b[0margs\u001b[0m\u001b[0;34m,\u001b[0m \u001b[0;34m**\u001b[0m\u001b[0mkwargs\u001b[0m\u001b[0;34m)\u001b[0m\u001b[0;34m\u001b[0m\u001b[0;34m\u001b[0m\u001b[0m\n\u001b[0m\u001b[1;32m   1931\u001b[0m             \u001b[0;32mif\u001b[0m \u001b[0;32mnot\u001b[0m \u001b[0misinstance\u001b[0m\u001b[0;34m(\u001b[0m\u001b[0mmodel\u001b[0m\u001b[0;34m,\u001b[0m \u001b[0mWord2Vec\u001b[0m\u001b[0;34m)\u001b[0m\u001b[0;34m:\u001b[0m\u001b[0;34m\u001b[0m\u001b[0;34m\u001b[0m\u001b[0m\n\u001b[1;32m   1932\u001b[0m                 \u001b[0mrethrow\u001b[0m \u001b[0;34m=\u001b[0m \u001b[0;32mTrue\u001b[0m\u001b[0;34m\u001b[0m\u001b[0;34m\u001b[0m\u001b[0m\n",
      "\u001b[0;32m~/.local/lib/python3.7/site-packages/gensim/utils.py\u001b[0m in \u001b[0;36mload\u001b[0;34m(cls, fname, mmap)\u001b[0m\n\u001b[1;32m    483\u001b[0m         \u001b[0mcompress\u001b[0m\u001b[0;34m,\u001b[0m \u001b[0msubname\u001b[0m \u001b[0;34m=\u001b[0m \u001b[0mSaveLoad\u001b[0m\u001b[0;34m.\u001b[0m\u001b[0m_adapt_by_suffix\u001b[0m\u001b[0;34m(\u001b[0m\u001b[0mfname\u001b[0m\u001b[0;34m)\u001b[0m\u001b[0;34m\u001b[0m\u001b[0;34m\u001b[0m\u001b[0m\n\u001b[1;32m    484\u001b[0m \u001b[0;34m\u001b[0m\u001b[0m\n\u001b[0;32m--> 485\u001b[0;31m         \u001b[0mobj\u001b[0m \u001b[0;34m=\u001b[0m \u001b[0munpickle\u001b[0m\u001b[0;34m(\u001b[0m\u001b[0mfname\u001b[0m\u001b[0;34m)\u001b[0m\u001b[0;34m\u001b[0m\u001b[0;34m\u001b[0m\u001b[0m\n\u001b[0m\u001b[1;32m    486\u001b[0m         \u001b[0mobj\u001b[0m\u001b[0;34m.\u001b[0m\u001b[0m_load_specials\u001b[0m\u001b[0;34m(\u001b[0m\u001b[0mfname\u001b[0m\u001b[0;34m,\u001b[0m \u001b[0mmmap\u001b[0m\u001b[0;34m,\u001b[0m \u001b[0mcompress\u001b[0m\u001b[0;34m,\u001b[0m \u001b[0msubname\u001b[0m\u001b[0;34m)\u001b[0m\u001b[0;34m\u001b[0m\u001b[0;34m\u001b[0m\u001b[0m\n\u001b[1;32m    487\u001b[0m         \u001b[0mobj\u001b[0m\u001b[0;34m.\u001b[0m\u001b[0madd_lifecycle_event\u001b[0m\u001b[0;34m(\u001b[0m\u001b[0;34m\"loaded\"\u001b[0m\u001b[0;34m,\u001b[0m \u001b[0mfname\u001b[0m\u001b[0;34m=\u001b[0m\u001b[0mfname\u001b[0m\u001b[0;34m)\u001b[0m\u001b[0;34m\u001b[0m\u001b[0;34m\u001b[0m\u001b[0m\n",
      "\u001b[0;32m~/.local/lib/python3.7/site-packages/gensim/utils.py\u001b[0m in \u001b[0;36munpickle\u001b[0;34m(fname)\u001b[0m\n\u001b[1;32m   1458\u001b[0m     \"\"\"\n\u001b[1;32m   1459\u001b[0m     \u001b[0;32mwith\u001b[0m \u001b[0mopen\u001b[0m\u001b[0;34m(\u001b[0m\u001b[0mfname\u001b[0m\u001b[0;34m,\u001b[0m \u001b[0;34m'rb'\u001b[0m\u001b[0;34m)\u001b[0m \u001b[0;32mas\u001b[0m \u001b[0mf\u001b[0m\u001b[0;34m:\u001b[0m\u001b[0;34m\u001b[0m\u001b[0;34m\u001b[0m\u001b[0m\n\u001b[0;32m-> 1460\u001b[0;31m         \u001b[0;32mreturn\u001b[0m \u001b[0m_pickle\u001b[0m\u001b[0;34m.\u001b[0m\u001b[0mload\u001b[0m\u001b[0;34m(\u001b[0m\u001b[0mf\u001b[0m\u001b[0;34m,\u001b[0m \u001b[0mencoding\u001b[0m\u001b[0;34m=\u001b[0m\u001b[0;34m'latin1'\u001b[0m\u001b[0;34m)\u001b[0m  \u001b[0;31m# needed because loading from S3 doesn't support readline()\u001b[0m\u001b[0;34m\u001b[0m\u001b[0;34m\u001b[0m\u001b[0m\n\u001b[0m\u001b[1;32m   1461\u001b[0m \u001b[0;34m\u001b[0m\u001b[0m\n\u001b[1;32m   1462\u001b[0m \u001b[0;34m\u001b[0m\u001b[0m\n",
      "\u001b[0;32m/usr/local/python/anaconda3/lib/python3.7/site-packages/numpy/random/_pickle.py\u001b[0m in \u001b[0;36m__randomstate_ctor\u001b[0;34m(bit_generator_name)\u001b[0m\n\u001b[1;32m     60\u001b[0m \u001b[0;34m\u001b[0m\u001b[0m\n\u001b[1;32m     61\u001b[0m \u001b[0;34m\u001b[0m\u001b[0m\n\u001b[0;32m---> 62\u001b[0;31m \u001b[0;32mdef\u001b[0m \u001b[0m__randomstate_ctor\u001b[0m\u001b[0;34m(\u001b[0m\u001b[0mbit_generator_name\u001b[0m\u001b[0;34m=\u001b[0m\u001b[0;34m'MT19937'\u001b[0m\u001b[0;34m)\u001b[0m\u001b[0;34m:\u001b[0m\u001b[0;34m\u001b[0m\u001b[0;34m\u001b[0m\u001b[0m\n\u001b[0m\u001b[1;32m     63\u001b[0m     \"\"\"\n\u001b[1;32m     64\u001b[0m     \u001b[0mPickling\u001b[0m \u001b[0mhelper\u001b[0m \u001b[0mfunction\u001b[0m \u001b[0mthat\u001b[0m \u001b[0mreturns\u001b[0m \u001b[0ma\u001b[0m \u001b[0mlegacy\u001b[0m \u001b[0mRandomState\u001b[0m\u001b[0;34m-\u001b[0m\u001b[0mlike\u001b[0m \u001b[0mobject\u001b[0m\u001b[0;34m\u001b[0m\u001b[0;34m\u001b[0m\u001b[0m\n",
      "\u001b[0;31mKeyboardInterrupt\u001b[0m: "
     ]
    }
   ],
   "source": [
    "df = extract_from_models('民主', 500, 100)"
   ]
  },
  {
   "cell_type": "code",
   "execution_count": 50,
   "metadata": {},
   "outputs": [
    {
     "name": "stderr",
     "output_type": "stream",
     "text": [
      "2022-03-02 09:57:34,811 : INFO : loading Word2Vec object from 1955.sg\n",
      "2022-03-02 09:57:35,380 : INFO : loading wv recursively from 1955.sg.wv.* with mmap=None\n",
      "2022-03-02 09:57:35,381 : INFO : setting ignored attribute vectors_norm to None\n",
      "2022-03-02 09:57:35,689 : INFO : loading vocabulary recursively from 1955.sg.vocabulary.* with mmap=None\n",
      "2022-03-02 09:57:35,690 : INFO : loading trainables recursively from 1955.sg.trainables.* with mmap=None\n",
      "2022-03-02 09:57:35,690 : INFO : setting ignored attribute cum_table to None\n",
      "2022-03-02 09:57:35,845 : INFO : Word2Vec lifecycle event {'fname': '1955.sg', 'datetime': '2022-03-02T09:57:35.845751', 'gensim': '4.1.2', 'python': '3.7.4 (default, Aug 13 2019, 20:35:49) \\n[GCC 7.3.0]', 'platform': 'Linux-3.10.0-1160.45.1.el7.x86_64-x86_64-with-redhat-7.9-Maipo', 'event': 'loaded'}\n"
     ]
    }
   ],
   "source": [
    "# I load one model for testing the pipeline ...\n",
    "chi_model = gensim.models.Word2Vec.load('1955.sg')"
   ]
  },
  {
   "cell_type": "code",
   "execution_count": 12,
   "metadata": {},
   "outputs": [
    {
     "data": {
      "text/plain": [
       "20098"
      ]
     },
     "execution_count": 12,
     "metadata": {},
     "output_type": "execute_result"
    }
   ],
   "source": [
    "chi_model.wv.get_vecattr('民主', 'count')"
   ]
  }
 ],
 "metadata": {
  "kernelspec": {
   "display_name": "Python 3",
   "language": "python",
   "name": "python3"
  },
  "language_info": {
   "codemirror_mode": {
    "name": "ipython",
    "version": 3
   },
   "file_extension": ".py",
   "mimetype": "text/x-python",
   "name": "python",
   "nbconvert_exporter": "python",
   "pygments_lexer": "ipython3",
   "version": "3.7.4"
  }
 },
 "nbformat": 4,
 "nbformat_minor": 2
}
