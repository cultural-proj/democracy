{
 "cells": [
  {
   "cell_type": "code",
   "execution_count": null,
   "metadata": {},
   "outputs": [],
   "source": [
    "def aggregate(word_list):    \n",
    "    word_list = word_list[0].split(',')\n",
    "    #new_vector = np.zeros(300)\n",
    "    new_vector_year = {}\n",
    "    missing_words = {}\n",
    "    for file in os.listdir():\n",
    "        #if file == '1990.sg':\n",
    "                #continue\n",
    "        new_vector = np.zeros(300)\n",
    "        if file.endswith('.sg'):\n",
    "            year = file[:4]\n",
    "            model = gensim.models.Word2Vec.load(file)\n",
    "            for i in word_list: \n",
    "                try:\n",
    "                    new_vector += np.sum((new_vector,model.wv.syn0[model.wv.vocab[i].index]), axis=0)\n",
    "                except:\n",
    "                    if year not in missing_words:\n",
    "                        missing_words[year] = []\n",
    "                    missing_words[year].append(i)\n",
    "            if year not in new_vector_year: \n",
    "                new_vector_year[year] = []\n",
    "            new_vector_year[year].extend(new_vector)\n",
    "                          \n",
    "    \n",
    "    return missing_words, new_vector_year"
   ]
  }
 ],
 "metadata": {
  "kernelspec": {
   "display_name": "Python 3",
   "language": "python",
   "name": "python3"
  },
  "language_info": {
   "codemirror_mode": {
    "name": "ipython",
    "version": 3
   },
   "file_extension": ".py",
   "mimetype": "text/x-python",
   "name": "python",
   "nbconvert_exporter": "python",
   "pygments_lexer": "ipython3",
   "version": "3.8.5"
  }
 },
 "nbformat": 4,
 "nbformat_minor": 4
}
