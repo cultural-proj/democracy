{
 "cells": [
  {
   "cell_type": "code",
   "execution_count": 25,
   "metadata": {},
   "outputs": [
    {
     "name": "stdout",
     "output_type": "stream",
     "text": [
      "3.8.3\n"
     ]
    }
   ],
   "source": [
    "#check gensim version\n",
    "import csv\n",
    "import pandas as pd\n",
    "import numpy as np\n",
    "import gensim\n",
    "print(gensim.__version__)\n",
    "from gensim.models import Word2Vec\n",
    "from sklearn.metrics.pairwise import cosine_similarity\n",
    "import matplotlib.pyplot as plt\n",
    "\n",
    "#logging.basicConfig(format='%(asctime)s : %(levelname)s : %(message)s', level=logging.INFO)"
   ]
  },
  {
   "cell_type": "code",
   "execution_count": 8,
   "metadata": {},
   "outputs": [],
   "source": [
    "#load all years model for a single language\n",
    "#change year range for Chinese\n",
    "model_dic = {}\n",
    "for i in range(1900, 2010): \n",
    "    model_dic['{}'.format(i)] = Word2Vec.load('/share/evansshare/sjia/2012/ita/models/{}.sg'.format(i))"
   ]
  },
  {
   "cell_type": "code",
   "execution_count": 29,
   "metadata": {},
   "outputs": [],
   "source": [
    "#democracy in every language\n",
    "lang = 'eng' #change this\n",
    "democracy_dic = {'eng' : 'democracy',  \n",
    "                 'ger' : 'demokratie', \n",
    "                 'ita' : 'democrazia', \n",
    "                 'chi' : '民主', \n",
    "                 'rus' : 'демократия', \n",
    "                 'fra' : 'démocratie'}\n",
    "democracy = democracy_dic[lang]"
   ]
  },
  {
   "cell_type": "code",
   "execution_count": 31,
   "metadata": {},
   "outputs": [],
   "source": [
    "#take word lists\n",
    "affluence_words = pd.read_csv('/home/fyeh/democracy-main/affluence_pairs.csv') #change this\n",
    "morality_words = pd.read_csv('/home/fyeh/democracy-main/morality_pairs.csv') #change this\n",
    "status_words = pd.read_csv('/home/fyeh/democracy-main/status_pairs.csv') #chiange this\n",
    "rich_words = [x for x in affluence_words['rich_{}'.format(lang)] if pd.isnull(x) == False]\n",
    "poor_words = [x for x in affluence_words['poor_{}'.format(lang)] if pd.isnull(x) == False]\n",
    "\n",
    "moral_words = [x for x in morality_words['moral_{}'.format(lang)] if pd.isnull(x) == False]\n",
    "immoral_words = [x for x in morality_words['immoral_{}'.format(lang)] if pd.isnull(x) == False]\n",
    "\n",
    "high_words = [x for x in morality_words['high_status_{}'.format(lang)] if pd.isnull(x) == False]\n",
    "low_words = [x for x in morality_words['low_status_{}'.format(lang)] if pd.isnull(x) == False]"
   ]
  },
  {
   "cell_type": "code",
   "execution_count": 32,
   "metadata": {},
   "outputs": [],
   "source": [
    "def normalize(vector):\n",
    "    '''\n",
    "    normalize the word vector\n",
    "    '''\n",
    "    normalized_vector = vector / np.linalg.norm(vector)\n",
    "    return normalized_vector\n",
    "\n",
    "def dimension(model, positives, negatives):\n",
    "    '''\n",
    "    construct a semantic dimension using positive and negative word lists\n",
    "    '''\n",
    "    p_vec = []\n",
    "    n_vec = []\n",
    "    for p, n in zip(positives, negatives):\n",
    "        if p in model.wv.vocab and n in model.wv.vocab:\n",
    "            p_vec.append(normalize(model.wv[p]))\n",
    "            n_vec.append(normalize(model.wv[n]))\n",
    "    diff = sum(p_vec) - sum(n_vec)\n",
    "    return diff"
   ]
  },
  {
   "cell_type": "code",
   "execution_count": 56,
   "metadata": {},
   "outputs": [],
   "source": [
    "def project_year(model_dic, democracy):\n",
    "    '''\n",
    "    construct affluence, morality, and status dimensions, and\n",
    "    project 'democracy' on these dimensions for each years\n",
    "    '''\n",
    "    a = []\n",
    "    m = []\n",
    "    s = []\n",
    "    for year, model in model_dic.items():\n",
    "        affluence = dimension (v, rich_words, poor_words)\n",
    "        morality = dimension(v, moral_words, immoral_words)\n",
    "        status = dimension(v, high_words, low_words)\n",
    "        a.append(cosine_similarity(model.wv[democracy].reshape(1,-1), affluence.reshape(1,-1))[0][0])\n",
    "        m.append(cosine_similarity(model.wv[democracy].reshape(1,-1), morality.reshape(1,-1))[0][0])\n",
    "        s.append(cosine_similarity(model.wv[democracy].reshape(1,-1), morality.reshape(1,-1))[0][0])\n",
    "    projection_df = pd.DataFrame({'affluence' : a, 'morality' : m, 'status' : s},\n",
    "                                  index = model_dic.keys())\n",
    "    return projection_df"
   ]
  },
  {
   "cell_type": "code",
   "execution_count": 137,
   "metadata": {},
   "outputs": [],
   "source": [
    "#save the file\n",
    "projection_df.to_csv('projection_{}.csv'.format(lang))"
   ]
  },
  {
   "cell_type": "code",
   "execution_count": 60,
   "metadata": {},
   "outputs": [],
   "source": [
    "lang_dic = {'eng' : 'English',  \n",
    "            'ger' : 'Germany', \n",
    "            'ita' : 'Italian', \n",
    "            'chi' : 'Chinese', \n",
    "            'rus' : 'Russian', \n",
    "            'fra' : 'France'}"
   ]
  },
  {
   "cell_type": "code",
   "execution_count": 65,
   "metadata": {},
   "outputs": [],
   "source": [
    "def plot_projection():\n",
    "    plt.title('Democracy Projection: {}'.format(lang_dic[lang]))\n",
    "    plt.xlabel('Year')\n",
    "    plt.ylabel('Projection')\n",
    "    projection_df['affluence'].plot()\n",
    "    projection_df['morality'].plot()\n",
    "    projection_df['status'].plot()\n",
    "    plt.legend(loc=3);"
   ]
  },
  {
   "cell_type": "code",
   "execution_count": 73,
   "metadata": {},
   "outputs": [],
   "source": [
    "def plot_10avg_projection():\n",
    "    plt.title('Democracy Projection: {}'.format(lang_dic[lang]))\n",
    "    plt.xlabel('Year')\n",
    "    plt.ylabel('Projection')\n",
    "    projection_df['affluence_10y_avg'] = projection_df['affluence'].rolling(10).mean().shift(-5)\n",
    "    projection_df['morality_10y_avg'] = projection_df['morality'].rolling(10).mean().shift(-5)\n",
    "    projection_df['status_10y_avg'] = projection_df['status'].rolling(10).mean().shift(-5)\n",
    "    projection_df['affluence_10y_avg'].plot()\n",
    "    projection_df['morality_10y_avg'].plot()\n",
    "    projection_df['status_10y_avg'].plot()\n",
    "    plt.legend(loc=3);"
   ]
  },
  {
   "cell_type": "code",
   "execution_count": 74,
   "metadata": {},
   "outputs": [
    {
     "data": {
      "image/png": "[encoded data removed]",
      "text/plain": [
       "<Figure size 432x288 with 1 Axes>"
      ]
     },
     "metadata": {
      "needs_background": "light"
     },
     "output_type": "display_data"
    }
   ],
   "source": [
    "plot_10avg_projection()"
   ]
  },
  {
   "cell_type": "code",
   "execution_count": null,
   "metadata": {},
   "outputs": [],
   "source": []
  },
  {
   "cell_type": "code",
   "execution_count": null,
   "metadata": {},
   "outputs": [],
   "source": []
  }
 ],
 "metadata": {
  "kernelspec": {
   "display_name": "Python 3",
   "language": "python",
   "name": "python3"
  },
  "language_info": {
   "codemirror_mode": {
    "name": "ipython",
    "version": 3
   },
   "file_extension": ".py",
   "mimetype": "text/x-python",
   "name": "python",
   "nbconvert_exporter": "python",
   "pygments_lexer": "ipython3",
   "version": "3.7.4"
  }
 },
 "nbformat": 4,
 "nbformat_minor": 2
}
